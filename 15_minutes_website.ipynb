{
  "nbformat": 4,
  "nbformat_minor": 0,
  "metadata": {
    "colab": {
      "provenance": [],
      "authorship_tag": "ABX9TyPeZaa6PESmLTWnBbJFZz0i",
      "include_colab_link": true
    },
    "kernelspec": {
      "name": "python3",
      "display_name": "Python 3"
    },
    "language_info": {
      "name": "python"
    }
  },
  "cells": [
    {
      "cell_type": "markdown",
      "metadata": {
        "id": "view-in-github",
        "colab_type": "text"
      },
      "source": [
        "<a href=\"https://colab.research.google.com/github/kiranwahid/streamlitwebsite15minutes/blob/main/15_minutes_website.ipynb\" target=\"_parent\"><img src=\"https://colab.research.google.com/assets/colab-badge.svg\" alt=\"Open In Colab\"/></a>"
      ]
    },
    {
      "cell_type": "markdown",
      "source": [
        "## Project 09: Build a Python Website in 15 Minutes With Streamlit"
      ],
      "metadata": {
        "id": "dY098uK5y2mG"
      }
    },
    {
      "cell_type": "code",
      "execution_count": null,
      "metadata": {
        "colab": {
          "base_uri": "https://localhost:8080/"
        },
        "id": "40R_qSzwy1kf",
        "outputId": "39492c4b-fcfa-488f-8f34-781a3b41a17f"
      },
      "outputs": [
        {
          "output_type": "stream",
          "name": "stdout",
          "text": [
            "Overwriting app.py\n"
          ]
        }
      ],
      "source": [
        "import streamlit as st\n",
        "from datetime import datetime\n",
        "\n",
        "# page title\n",
        "st.set_page_config(page_title=\" Ramadan Mubarak 🌙\", layout=\"wide\")\n",
        "\n",
        "# Ramazan greeting\n",
        "st.header(\"🌙 Ramadan Mubarak 🕌\")\n",
        "st.write(\"\"\"**Ramadan** is a journey of patience and gratitude, where each prayer lifts the spirit and every sunset.\n",
        "         brings hope and peace. It's a month of self-purification, where kindness blooms and generosity fills the air.\"\"\")\n",
        "\n",
        "#  navigation bar\n",
        "\n",
        "st.sidebar.title(\"Navigaion\")\n",
        "# Sidebar with emojis\n",
        "page = st.sidebar.radio(\"Go to\", [\n",
        "    \"🏠 Home\",\n",
        "    \"🕌 Ramadan Timetable\",\n",
        "    \"🌙 Fasting Tips\",\n",
        "    \"📿 Dua of the Day\",\n",
        "    \"🖼️ Gallery\",\n",
        "    \"📞 Contact Us\"\n",
        "])\n",
        "\n",
        "\n",
        "#  home section\n",
        "if page == \"🏠 Home\":\n",
        "    st.header(\"What is Ramadan?\")\n",
        "    st.write(\"\"\"\n",
        "Ramadan is the ninth month of the Islamic lunar calendar and is considered one of the holiest months for Muslims. It is a time of fasting, prayer, reflection, and community. Here are some key aspects of Ramadan.\n",
        "    \"\"\")\n",
        "\n",
        "    st.header(\"Key Aspects of Ramadan:\")\n",
        "    st.write(\"**1. Fasting:** Ramadan is the holiest month in Islam, marked by fasting from dawn to sunset.\")\n",
        "    st.write(\"**2. Prayer and Worship**: Muslims focus on prayer, reading the Qur'an, and engaging in extra worship.\")\n",
        "    st.write(\"**3.Charity:** Charity is emphasized, with Zakat (obligatory) and Sadaqah (voluntary) given to those in need.\")\n",
        "    st.write(\"**4. Eid al-Fitr:** The end of Ramadan is celebrated with Eid al-Fitr, a festival of feasting and prayers.\")\n",
        "    st.write(\"**5. Spiritual Growth:** Ramadan promotes spiritual growth, self-discipline, and empathy.\")\n",
        "\n",
        "    # Ramadan Timetable section\n",
        "\n",
        "elif page == \"🕌 Ramadan Timetable\":\n",
        "    st.header(\"🕰️ Ramadan Timetable\")\n",
        "\n",
        "    #  Display today's date\n",
        "    today_date = datetime.now().strftime(\"%B %d, %Y\")\n",
        "    st.subheader(f\"Today's Date: {today_date}\")\n",
        "\n",
        "    # Interactive Iftar Countdown\n",
        "    iftar_time = datetime.strptime('18:45', '%H:%M').time()\n",
        "    time = datetime.now()\n",
        "    # Set actual Iftar time here\n",
        "    iftar_datetime = datetime.combine(time.date(), iftar_time)\n",
        "    left_time = iftar_datetime - time\n",
        "\n",
        "\n",
        "    hours_left = left_time.seconds // 3600\n",
        "    minutes_left = (left_time.seconds % 3600) // 60\n",
        "    st.subheader(f\"⏳ Time Left Until Iftar: {hours_left} hours and {minutes_left} minutes\")\n",
        "\n",
        "    #  Prayer Timetable\n",
        "\n",
        "    # Placeholder timetable (example)\n",
        "    st.write(\"**Today's Prayer Times**\")\n",
        "    prayer_timetable = {\n",
        "        \"Fajr\": \"04:45 AM\",\n",
        "        \"Dhuhr\": \"12:30 PM\",\n",
        "        \"Asr\": \"04:00 PM\",\n",
        "        \"Maghrib (Iftar)\": \"06:50 PM\",\n",
        "        \"Isha\": \"08:15 PM\"\n",
        "    }\n",
        "\n",
        "    for prayer, time in prayer_timetable.items():\n",
        "        st.write(f\"**{prayer}:** {time}\")\n",
        "\n",
        "\n",
        "\n",
        "\n",
        "\n",
        "\n",
        "    #  fasting tip section\n",
        "elif page ==\"🌙 Fasting Tips\":\n",
        "    st.header(\"📖 Tips For Fasting During Ramadan\")\n",
        "    st.write(\"\"\"\n",
        "    Here are some helpful tips for fasting during the month of Ramadan:\n",
        "\n",
        "    1. **Hydrate**: Drink plenty of water during Suhoor and Iftar to stay hydrated throughout the day.\n",
        "    2. **Balanced Diet**: Eat balanced meals with proteins, carbohydrates, and healthy fats to maintain energy.\n",
        "    3. **Avoid Overeating**: Try not to overeat during Iftar to avoid fatigue.\n",
        "    4. **Rest**: Get enough rest at night to have the energy to fast the next day.\n",
        "    5. **Prayers and Patience**: Remember the spiritual significance of fasting and pray regularly.\n",
        "    \"\"\")\n",
        "\n",
        "    #  Dua of the day section\n",
        "elif page ==  \"📿 Dua of the Day\":\n",
        "    st.header(\"📿 Dua of the Day\")\n",
        "\n",
        "    # Display a sample Dua\n",
        "    dua = \"\"\"\n",
        "    اللَّهُمَّ إِنِّي لَكَ صُمْتُ وَبِكَ آمَنْتُ وَعَلَيْكَ تَوَكَّلْتُ وَعَلَىٰ رِزْقِكَ أَفْطَرْتُ\n",
        "    \"\"\"\n",
        "    st.write(f\"**Dua for Breaking the Fast (Iftar)**: {dua}\")\n",
        "\n",
        "    st.write(\"\"\"\n",
        "    **Translation**: \"O Allah! I fasted for You, and I believe in You, and I put my trust in You, and with Your sustenance, I break my fast.\"\n",
        "    \"\"\")\n",
        "\n",
        "elif page ==\"🖼️ Gallery\":\n",
        "    st.header(\"📷 Ramadan Gallery\")\n",
        "    st.write(\"Here are some beautiful images that capture the essence of Ramadan.\")\n",
        "\n",
        "      # Add images related to Ramadan\n",
        "    st.image(\"https://img.freepik.com/free-psd/ramadan-mubarak-3d-banner-design-template_47987-19386.jpg\", caption=\"Ramadan Karee\", use_container_width=True)\n",
        "    st.image(\"https://png.pngtree.com/thumb_back/fh260/background/20250120/pngtree-iftar-festivity-for-ramadan-kareem-context-image_16937849.jpg\", caption=\"Iftar Time\", use_container_width=True)\n",
        "    st.image(\"https://www.dhakarachi.org/wp-content/uploads/2022/06/SJM_0629-1.jpg\", caption=\"Beautiful Mosque\", use_container_width=True)\n",
        "\n",
        "\n",
        "elif page ==\"📞 Contact Us\":\n",
        "    st.subheader(\"Contact Us 📞\")\n",
        "    st.write(\"Feel free to contact us using the form below:\")\n",
        "    name = st.text_input(\"Name\")\n",
        "    email = st.text_input(\"Email\")\n",
        "    message = st.text_area(\"Message\")\n",
        "    if st.button(\"Submit\"):\n",
        "        st.write(f\"Thank you {name}, we have received your message!\")\n",
        "\n",
        "\n",
        "\n",
        "#  footer section\n",
        "st.markdown(\"\"\"\n",
        " ---\n",
        "🌙 **Ramadan Mubarak** to all! May this month bring you peace, prosperity, and blessings. 🙏\n",
        "\"\"\")\n",
        "\n",
        "\n",
        "\n",
        "\n"
      ]
    }
  ]
}